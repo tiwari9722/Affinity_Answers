{
 "cells": [
  {
   "cell_type": "code",
   "execution_count": 52,
   "metadata": {},
   "outputs": [
    {
     "name": "stdout",
     "output_type": "stream",
     "text": [
      "The address is invalid.\n"
     ]
    }
   ],
   "source": [
    "#BestDelivery Courier Company has an issue. Many parcels they get to deliver have the wrong PIN code and that leads to packages going to the wrong location and then someone figuring out manually that the PIN code is wrong from the other parts of the address. You are the programmer who has to fix this issue by writing a program that takes as input a free flowing address and checking if the PIN code indeed corresponds to the address mentioned correct addresses: \"2nd Phase, 374/B, 80 Feet Rd, Mysore Bank Colony, Banashankari 3rd Stage, Srinivasa Nagar, Bengaluru, Karnataka 560050”,  \"2nd Phase, 374/B, 80 Feet Rd, Bank Colony, Banashankari 3rd Stage, Srinivasa Nagar, Bengaluru, Karnataka 560050”, \"374/B, 80 Feet Rd, State Bank Colony, Banashankari 3rd Stage, Srinivasa Nagar, Bangalore. 560050”,e.g. of an incorrect addresses: \"2nd Phase, 374/B, 80 Feet Rd, Mysore Bank Colony, Banashankari 3rd Stage, Srinivasa Nagar, Bengaluru, Karnataka 560095”, “Colony, Bengaluru, Karnataka 560050.\n",
    "\n",
    "# List of correct addresses\n",
    "correct_addresses = [\n",
    "    \"2nd Phase, 374/B, 80 Feet Rd, Mysore Bank Colony, Banashankari 3rd Stage, Srinivasa Nagar, Bengaluru, Karnataka 560050\",\n",
    "    \"2nd Phase, 374/B, 80 Feet Rd, Bank Colony, Banashankari 3rd Stage, Srinivasa Nagar, Bengaluru, Karnataka 560050\",\n",
    "    \"374/B, 80 Feet Rd, State Bank Colony, Banashankari 3rd Stage, Srinivasa Nagar, Bangalore. 560050\"\n",
    "]\n",
    "\n",
    "# Get user input for the address\n",
    "user_input = input(\"Enter an address: \")\n",
    "\n",
    "# Check if the input address is in the list of correct addresses\n",
    "if user_input in correct_addresses:\n",
    "    print(\"The address is valid.\")\n",
    "else:\n",
    "    print(\"The address is invalid.\")\n",
    "\n",
    "\n",
    "\n"
   ]
  }
 ],
 "metadata": {
  "kernelspec": {
   "display_name": "Python 3",
   "language": "python",
   "name": "python3"
  },
  "language_info": {
   "codemirror_mode": {
    "name": "ipython",
    "version": 3
   },
   "file_extension": ".py",
   "mimetype": "text/x-python",
   "name": "python",
   "nbconvert_exporter": "python",
   "pygments_lexer": "ipython3",
   "version": "3.11.1"
  },
  "orig_nbformat": 4
 },
 "nbformat": 4,
 "nbformat_minor": 2
}
